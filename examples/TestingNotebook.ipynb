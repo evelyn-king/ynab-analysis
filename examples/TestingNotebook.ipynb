{
 "cells": [
  {
   "cell_type": "code",
   "execution_count": null,
   "id": "0ce4dc70-abde-44b6-987d-1fc0fa8c601d",
   "metadata": {},
   "outputs": [],
   "source": [
    "import datetime\n",
    "import os\n",
    "import re\n",
    "\n",
    "import dotenv\n",
    "from pydantic import BaseModel, ConfigDict, Field\n",
    "import requests"
   ]
  },
  {
   "cell_type": "code",
   "execution_count": null,
   "id": "402feb66-7308-470b-b057-c7b7a360cb50",
   "metadata": {},
   "outputs": [],
   "source": [
    "dotenv.load_dotenv(\"../src/ynab-analysis/access.env\", override=False)"
   ]
  },
  {
   "cell_type": "code",
   "execution_count": null,
   "id": "39d3811f-8890-4176-b302-1902636b2555",
   "metadata": {},
   "outputs": [],
   "source": [
    "ynab_pat = os.environ[\"YNAB_PAT\"]"
   ]
  },
  {
   "cell_type": "code",
   "execution_count": null,
   "id": "09b9fe66-4ade-4fc6-8d4e-970bf7031a7a",
   "metadata": {},
   "outputs": [],
   "source": [
    "ynab_api_url_base = \"https://api.ynab.com/v1\"\n",
    "budget_url = f\"{ynab_api_url_base}/budgets\""
   ]
  },
  {
   "cell_type": "code",
   "execution_count": null,
   "id": "7fe39c64-7578-4102-9bee-4917a2b8af57",
   "metadata": {},
   "outputs": [],
   "source": [
    "headers = {\"Authorization\": f\"Bearer {ynab_pat}\"}"
   ]
  },
  {
   "cell_type": "code",
   "execution_count": null,
   "id": "8331f4b5-2854-47d7-8b49-8d0d1013b2f7",
   "metadata": {},
   "outputs": [],
   "source": [
    "r = requests.get(budget_url, headers=headers)"
   ]
  },
  {
   "cell_type": "code",
   "execution_count": null,
   "id": "14382860-6a10-4316-ab8c-d3ff4450399f",
   "metadata": {},
   "outputs": [],
   "source": [
    "_class_to_underscore_separated(\"CurrencyFormat\")"
   ]
  },
  {
   "cell_type": "code",
   "execution_count": null,
   "id": "7de2e54b-3ebc-4a1a-97c1-9401835b2171",
   "metadata": {},
   "outputs": [],
   "source": [
    "def _class_to_underscore_separated(class_name: str) -> str:\n",
    "    split = re.sub(\n",
    "        \"([A-Z][a-z]+)\",\n",
    "        r\" \\1\",\n",
    "        re.sub(\n",
    "            \"([A-Z]+)\",\n",
    "            r\" \\1\",\n",
    "            class_name\n",
    "        )\n",
    "    ).split()\n",
    "    split = map(lambda x: x.lower(), split)\n",
    "    return \"_\".join(split)\n",
    "\n",
    "\n",
    "\n",
    "class CurrencyFormat(pydantic.BaseModel):\n",
    "    model_config = ConfigDict(\n",
    "        field_title_generator=lambda field_name, field_info: field_name,\n",
    "        model_title_generator = lambda model: _class_to_underscore_separated(model.__name__)\n",
    "    )\n",
    "    \n",
    "    iso_code: str = Field(default=\"USD\", validate_default=True)\n",
    "    decimal_digits: int = Field(default=2, validate_default=True)\n",
    "    decimal_separator: str = Field(default=\".\", validate_default=True)\n",
    "    group_separator: str = Field(default=\",\", validate_default=True)\n",
    "    currency_separator: str = Field(default=\"$\", validate_default=True)\n",
    "    symbol_first: bool = Field(default=True, validate_default=True)\n",
    "    display_symbol: bool = Field(default=True, validate_default=True)\n",
    "\n",
    "class DateFormat(BaseModel):\n",
    "    format_: str = Field(alias=\"format\", default=\"MM/DD/YYYY\")\n",
    "\n",
    "class Budget(BaseModel):\n",
    "    id: str = Field(frozen=True)\n",
    "    name: str = Field()\n",
    "    currency_format: CurrencyFormat = Field(default_factory=CurrencyFormat.__init__)\n",
    "    last_modified_on: datetime.datetime\n",
    "    first_month: datetime.datetime\n",
    "    last_month: datetime.datetime\n",
    "    date_format: DateFormat\n",
    "\n",
    "class BudgetData(BaseModel):\n",
    "    budgets: list[Budget]\n",
    "    default_budget: str | None = None"
   ]
  },
  {
   "cell_type": "code",
   "execution_count": null,
   "id": "7ff38efe-b48d-45c0-92b6-1ceb43dcf758",
   "metadata": {},
   "outputs": [],
   "source": [
    "test_budget_data = r.json()[\"data\"][\"budgets\"][0]"
   ]
  },
  {
   "cell_type": "code",
   "execution_count": null,
   "id": "5ffe36bf-3e71-4483-8c76-cabb22472458",
   "metadata": {},
   "outputs": [],
   "source": [
    "ws_budget_data = BudgetData.model_validate(r.json()[\"data\"])"
   ]
  },
  {
   "cell_type": "code",
   "execution_count": null,
   "id": "c15666bf-13b7-4e7a-ac7a-87f0fb8e43c4",
   "metadata": {},
   "outputs": [],
   "source": [
    "ws_budget = ws_budget_data.budgets[2]"
   ]
  },
  {
   "cell_type": "code",
   "execution_count": null,
   "id": "ab5f87f4-1ed2-42ce-8e4f-6bf28f578b06",
   "metadata": {},
   "outputs": [],
   "source": []
  },
  {
   "cell_type": "code",
   "execution_count": null,
   "id": "1747998f-b7f3-44aa-99e5-22dc1bf18588",
   "metadata": {},
   "outputs": [],
   "source": [
    "Budget.model_validate(test_budget_data)"
   ]
  },
  {
   "cell_type": "code",
   "execution_count": null,
   "id": "cab7f704-d19c-4cf0-a188-d24d069b9f9e",
   "metadata": {},
   "outputs": [],
   "source": [
    "GET /budgets/{budget_id}/transactions"
   ]
  },
  {
   "cell_type": "code",
   "execution_count": null,
   "id": "4d2b2e6d-0c7b-461d-8b0a-c5e130113926",
   "metadata": {},
   "outputs": [],
   "source": [
    "transaction_template = \"{ynab_api_url_base}/budgets/{budget_id}/transactions\"\n",
    "\n",
    "ws_transaction_request = transaction_template.format(ynab_api_url_base=ynab_api_url_base, budget_id=ws_budget.id)"
   ]
  },
  {
   "cell_type": "code",
   "execution_count": null,
   "id": "7b0c441f-7df7-4435-8a28-4a9092d59f7b",
   "metadata": {},
   "outputs": [],
   "source": [
    "transaction_request = requests.get(ws_transaction_request, headers=headers)"
   ]
  },
  {
   "cell_type": "code",
   "execution_count": null,
   "id": "fd6fc389-4238-4196-98ad-c7c64a1f5aa2",
   "metadata": {},
   "outputs": [],
   "source": [
    "list(transaction_request.json()[\"data\"][\"transactions\"][0].keys())"
   ]
  },
  {
   "cell_type": "code",
   "execution_count": null,
   "id": "6a343b2e-dd4b-49b3-8114-682c29f4f668",
   "metadata": {},
   "outputs": [],
   "source": [
    "transaction_request.json()[\"data\"][\"transactions\"][0]"
   ]
  },
  {
   "cell_type": "code",
   "execution_count": null,
   "id": "9471e63e-a657-4093-bfc4-ee59f45aef7f",
   "metadata": {},
   "outputs": [],
   "source": [
    "for transaction in transaction_request.json()[\"data\"][\"transactions\"]:\n",
    "    if transaction[\"subtransactions\"]:\n",
    "        good_example = transaction.copy()\n",
    "    else:\n",
    "        good_example = None"
   ]
  },
  {
   "cell_type": "code",
   "execution_count": null,
   "id": "db518cef-6254-4d5a-9af7-69e500355e9b",
   "metadata": {},
   "outputs": [],
   "source": [
    "list(transaction_request.json()[\"data\"].keys())"
   ]
  },
  {
   "cell_type": "code",
   "execution_count": null,
   "id": "9910c4a6-dfcf-458e-9b29-0add688d49bf",
   "metadata": {},
   "outputs": [],
   "source": [
    "transaction_request.json()[\"data\"][\"server_knowledge\"]"
   ]
  },
  {
   "cell_type": "code",
   "execution_count": null,
   "id": "1fa7ffd8-453e-4035-8084-1739c8e23d8b",
   "metadata": {},
   "outputs": [],
   "source": [
    "class Subtransaction(BaseModel):\n",
    "    id_: str = Field(alias=\"id\", frozen=True)\n",
    "    transaction_id: str\n",
    "    amount: float\n",
    "    memo: str | None = Field(default=None)\n",
    "    payee_id: str | None = Field(default=None)\n",
    "    payee_name: str | None = Field(default=None)\n",
    "    category_id: str | None = Field(default=None)\n",
    "    category_name: str | None = Field(default=None)\n",
    "    transfer_account_id: str | None = Field(default=None)\n",
    "    transfer_transaction_id: str | None = Field(default=None)\n",
    "    deleted: bool = Field(default=False)"
   ]
  },
  {
   "cell_type": "code",
   "execution_count": null,
   "id": "9c0fde8c-7c16-4559-a55a-fa4b056f2832",
   "metadata": {},
   "outputs": [],
   "source": [
    "class Transaction(BaseModel):\n",
    "    id_: str = Field(alias=\"id\", frozen=True)\n",
    "    date: datetime.datetime\n",
    "    amount: int\n",
    "    memo: str | None = Field(default=None)\n",
    "    cleared: str | None = Field(default=None)  # should be an enum\n",
    "    approved: bool\n",
    "    account_id: str | None = Field(default=None)\n",
    "    account_name: str | None = Field(default=None)\n",
    "    payee_id: str | None = Field(default=None)\n",
    "    payee_name: str | None = Field(default=None)\n",
    "    transfer_transaction_id: str | None = Field(default=None)\n",
    "    matched_transaction_id: str | None = Field(default=None)\n",
    "    flag_color: str | None = Field(default=None)\n",
    "    debt_transaction_type: str | None = Field(default=None)\n",
    "    deleted: bool = Field(default=True)\n",
    "    subtransactions: list[Subtransaction] = Field(default_factory=list)"
   ]
  },
  {
   "cell_type": "code",
   "execution_count": null,
   "id": "08849a74-0d83-42dd-812b-aa6bfad7d5ca",
   "metadata": {},
   "outputs": [],
   "source": [
    "class TransactionData(BaseModel):\n",
    "    transactions: list[Transaction]\n",
    "    server_knowledge: int"
   ]
  },
  {
   "cell_type": "code",
   "execution_count": null,
   "id": "3ee45b52-4b50-4752-9f3b-da02d0218879",
   "metadata": {},
   "outputs": [],
   "source": [
    "transaction_data = TransactionData.model_validate(transaction_request.json()[\"data\"])"
   ]
  },
  {
   "cell_type": "code",
   "execution_count": null,
   "id": "3e9b265d-70e7-4efd-8022-9f00e5dbc75f",
   "metadata": {},
   "outputs": [],
   "source": []
  }
 ],
 "metadata": {
  "kernelspec": {
   "display_name": "Python 3 (ipykernel)",
   "language": "python",
   "name": "python3"
  },
  "language_info": {
   "codemirror_mode": {
    "name": "ipython",
    "version": 3
   },
   "file_extension": ".py",
   "mimetype": "text/x-python",
   "name": "python",
   "nbconvert_exporter": "python",
   "pygments_lexer": "ipython3",
   "version": "3.13.1"
  }
 },
 "nbformat": 4,
 "nbformat_minor": 5
}
